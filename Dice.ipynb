{
 "cells": [
  {
   "cell_type": "code",
   "execution_count": null,
   "metadata": {},
   "outputs": [],
   "source": [
    "import random\n",
    "print(\"This is Dice Simulator\")\n",
    "x=\"y\"\n",
    "\n",
    "\n",
    "while x==\"y\":    \n",
    "    number= random.randint(1,6)\n",
    "    if number ==1:\n",
    "        print(\"----------\")\n",
    "        print(\"|        |\")\n",
    "        print(\"|  0     |\")\n",
    "        print(\"|        |\")\n",
    "        print(\"----------\")\n",
    "    if number ==2:\n",
    "        print(\"----------\")\n",
    "        print(\"|        |\")\n",
    "        print(\"|  0 0   |\")\n",
    "        print(\"|        |\")\n",
    "        print(\"----------\")\n",
    "    if number ==3:\n",
    "        print(\"----------\")\n",
    "        print(\"|        |\")\n",
    "        print(\"|  000   |\")\n",
    "        print(\"|        |\")\n",
    "        print(\"----------\")\n",
    "    if number ==4:\n",
    "        print(\"----------\")\n",
    "        print(\"|        |\")\n",
    "        print(\"|  0  000|\")\n",
    "        print(\"|        |\")\n",
    "        print(\"----------\")\n",
    "    if number ==5:\n",
    "        print(\"----------\")\n",
    "        print(\"|        |\")\n",
    "        print(\"|  00000 |\")\n",
    "        print(\"|        |\")\n",
    "        print(\"----------\")\n",
    "    if number ==6:\n",
    "        print(\"----------\")\n",
    "        print(\"|        |\")\n",
    "        print(\"|  0 00000\")\n",
    "        print(\"|        |\")\n",
    "        print(\"----------\")\n",
    "    x = input(\"  press y or n\")\n",
    "\n"
   ]
  }
 ],
 "metadata": {
  "kernelspec": {
   "display_name": "Python 3",
   "language": "python",
   "name": "python3"
  },
  "language_info": {
   "codemirror_mode": {
    "name": "ipython",
    "version": 3
   },
   "file_extension": ".py",
   "mimetype": "text/x-python",
   "name": "python",
   "nbconvert_exporter": "python",
   "pygments_lexer": "ipython3",
   "version": "3.8.3"
  }
 },
 "nbformat": 4,
 "nbformat_minor": 4
}
